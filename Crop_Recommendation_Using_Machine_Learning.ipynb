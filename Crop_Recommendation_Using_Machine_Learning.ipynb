{
  "cells": [
    {
      "cell_type": "markdown",
      "metadata": {
        "id": "view-in-github",
        "colab_type": "text"
      },
      "source": [
        "<a href=\"https://colab.research.google.com/github/yandri918/Belajar-python/blob/pandas/Crop_Recommendation_Using_Machine_Learning.ipynb\" target=\"_parent\"><img src=\"https://colab.research.google.com/assets/colab-badge.svg\" alt=\"Open In Colab\"/></a>"
      ]
    },
    {
      "cell_type": "code",
      "execution_count": 1,
      "id": "d581fda7",
      "metadata": {
        "id": "d581fda7"
      },
      "outputs": [],
      "source": [
        "import pandas as pd\n",
        "import numpy as np"
      ]
    },
    {
      "cell_type": "code",
      "execution_count": 2,
      "id": "94b016f9",
      "metadata": {
        "id": "94b016f9"
      },
      "outputs": [],
      "source": [
        "crop = pd.read_csv(\"Crop_recommendation.csv\")"
      ]
    },
    {
      "cell_type": "code",
      "execution_count": null,
      "id": "b942d5b0",
      "metadata": {
        "id": "b942d5b0",
        "outputId": "8e23b1bf-4a56-4e37-c405-bbe15ca87df4"
      },
      "outputs": [
        {
          "data": {
            "text/html": [
              "<div>\n",
              "<style scoped>\n",
              "    .dataframe tbody tr th:only-of-type {\n",
              "        vertical-align: middle;\n",
              "    }\n",
              "\n",
              "    .dataframe tbody tr th {\n",
              "        vertical-align: top;\n",
              "    }\n",
              "\n",
              "    .dataframe thead th {\n",
              "        text-align: right;\n",
              "    }\n",
              "</style>\n",
              "<table border=\"1\" class=\"dataframe\">\n",
              "  <thead>\n",
              "    <tr style=\"text-align: right;\">\n",
              "      <th></th>\n",
              "      <th>N</th>\n",
              "      <th>P</th>\n",
              "      <th>K</th>\n",
              "      <th>temperature</th>\n",
              "      <th>humidity</th>\n",
              "      <th>ph</th>\n",
              "      <th>rainfall</th>\n",
              "      <th>label</th>\n",
              "    </tr>\n",
              "  </thead>\n",
              "  <tbody>\n",
              "    <tr>\n",
              "      <th>0</th>\n",
              "      <td>90</td>\n",
              "      <td>42</td>\n",
              "      <td>43</td>\n",
              "      <td>20.879744</td>\n",
              "      <td>82.002744</td>\n",
              "      <td>6.502985</td>\n",
              "      <td>202.935536</td>\n",
              "      <td>rice</td>\n",
              "    </tr>\n",
              "    <tr>\n",
              "      <th>1</th>\n",
              "      <td>85</td>\n",
              "      <td>58</td>\n",
              "      <td>41</td>\n",
              "      <td>21.770462</td>\n",
              "      <td>80.319644</td>\n",
              "      <td>7.038096</td>\n",
              "      <td>226.655537</td>\n",
              "      <td>rice</td>\n",
              "    </tr>\n",
              "    <tr>\n",
              "      <th>2</th>\n",
              "      <td>60</td>\n",
              "      <td>55</td>\n",
              "      <td>44</td>\n",
              "      <td>23.004459</td>\n",
              "      <td>82.320763</td>\n",
              "      <td>7.840207</td>\n",
              "      <td>263.964248</td>\n",
              "      <td>rice</td>\n",
              "    </tr>\n",
              "    <tr>\n",
              "      <th>3</th>\n",
              "      <td>74</td>\n",
              "      <td>35</td>\n",
              "      <td>40</td>\n",
              "      <td>26.491096</td>\n",
              "      <td>80.158363</td>\n",
              "      <td>6.980401</td>\n",
              "      <td>242.864034</td>\n",
              "      <td>rice</td>\n",
              "    </tr>\n",
              "    <tr>\n",
              "      <th>4</th>\n",
              "      <td>78</td>\n",
              "      <td>42</td>\n",
              "      <td>42</td>\n",
              "      <td>20.130175</td>\n",
              "      <td>81.604873</td>\n",
              "      <td>7.628473</td>\n",
              "      <td>262.717340</td>\n",
              "      <td>rice</td>\n",
              "    </tr>\n",
              "  </tbody>\n",
              "</table>\n",
              "</div>"
            ],
            "text/plain": [
              "    N   P   K  temperature   humidity        ph    rainfall label\n",
              "0  90  42  43    20.879744  82.002744  6.502985  202.935536  rice\n",
              "1  85  58  41    21.770462  80.319644  7.038096  226.655537  rice\n",
              "2  60  55  44    23.004459  82.320763  7.840207  263.964248  rice\n",
              "3  74  35  40    26.491096  80.158363  6.980401  242.864034  rice\n",
              "4  78  42  42    20.130175  81.604873  7.628473  262.717340  rice"
            ]
          },
          "execution_count": 3,
          "metadata": {},
          "output_type": "execute_result"
        }
      ],
      "source": [
        "crop.head()"
      ]
    },
    {
      "cell_type": "code",
      "execution_count": null,
      "id": "395ca0d7",
      "metadata": {
        "id": "395ca0d7",
        "outputId": "48586bab-d19b-4dba-f54d-5ce702f148c9"
      },
      "outputs": [
        {
          "data": {
            "text/plain": [
              "(2200, 8)"
            ]
          },
          "execution_count": 4,
          "metadata": {},
          "output_type": "execute_result"
        }
      ],
      "source": [
        "crop.shape"
      ]
    },
    {
      "cell_type": "code",
      "execution_count": null,
      "id": "28763dd8",
      "metadata": {
        "id": "28763dd8",
        "outputId": "7620d07a-82d8-430f-959f-c596d3d45b43"
      },
      "outputs": [
        {
          "name": "stdout",
          "output_type": "stream",
          "text": [
            "<class 'pandas.core.frame.DataFrame'>\n",
            "RangeIndex: 2200 entries, 0 to 2199\n",
            "Data columns (total 8 columns):\n",
            " #   Column       Non-Null Count  Dtype  \n",
            "---  ------       --------------  -----  \n",
            " 0   N            2200 non-null   int64  \n",
            " 1   P            2200 non-null   int64  \n",
            " 2   K            2200 non-null   int64  \n",
            " 3   temperature  2200 non-null   float64\n",
            " 4   humidity     2200 non-null   float64\n",
            " 5   ph           2200 non-null   float64\n",
            " 6   rainfall     2200 non-null   float64\n",
            " 7   label        2200 non-null   object \n",
            "dtypes: float64(4), int64(3), object(1)\n",
            "memory usage: 137.6+ KB\n"
          ]
        }
      ],
      "source": [
        "crop.info()"
      ]
    },
    {
      "cell_type": "code",
      "execution_count": null,
      "id": "6dc9d072",
      "metadata": {
        "id": "6dc9d072",
        "outputId": "7f3c0d21-cec5-4414-fcf4-c70090ded670"
      },
      "outputs": [
        {
          "data": {
            "text/plain": [
              "N              0\n",
              "P              0\n",
              "K              0\n",
              "temperature    0\n",
              "humidity       0\n",
              "ph             0\n",
              "rainfall       0\n",
              "label          0\n",
              "dtype: int64"
            ]
          },
          "execution_count": 6,
          "metadata": {},
          "output_type": "execute_result"
        }
      ],
      "source": [
        "crop.isnull().sum()"
      ]
    },
    {
      "cell_type": "code",
      "execution_count": null,
      "id": "db72e2ef",
      "metadata": {
        "id": "db72e2ef",
        "outputId": "24f97e44-506a-41d3-fa12-641d7bab71c9"
      },
      "outputs": [
        {
          "data": {
            "text/plain": [
              "0"
            ]
          },
          "execution_count": 8,
          "metadata": {},
          "output_type": "execute_result"
        }
      ],
      "source": [
        "crop.duplicated().sum()"
      ]
    },
    {
      "cell_type": "code",
      "execution_count": null,
      "id": "b6059e57",
      "metadata": {
        "id": "b6059e57",
        "outputId": "98c67aa2-b03b-48c3-89ea-9abce314cee2"
      },
      "outputs": [
        {
          "data": {
            "text/html": [
              "<div>\n",
              "<style scoped>\n",
              "    .dataframe tbody tr th:only-of-type {\n",
              "        vertical-align: middle;\n",
              "    }\n",
              "\n",
              "    .dataframe tbody tr th {\n",
              "        vertical-align: top;\n",
              "    }\n",
              "\n",
              "    .dataframe thead th {\n",
              "        text-align: right;\n",
              "    }\n",
              "</style>\n",
              "<table border=\"1\" class=\"dataframe\">\n",
              "  <thead>\n",
              "    <tr style=\"text-align: right;\">\n",
              "      <th></th>\n",
              "      <th>N</th>\n",
              "      <th>P</th>\n",
              "      <th>K</th>\n",
              "      <th>temperature</th>\n",
              "      <th>humidity</th>\n",
              "      <th>ph</th>\n",
              "      <th>rainfall</th>\n",
              "    </tr>\n",
              "  </thead>\n",
              "  <tbody>\n",
              "    <tr>\n",
              "      <th>count</th>\n",
              "      <td>2200.000000</td>\n",
              "      <td>2200.000000</td>\n",
              "      <td>2200.000000</td>\n",
              "      <td>2200.000000</td>\n",
              "      <td>2200.000000</td>\n",
              "      <td>2200.000000</td>\n",
              "      <td>2200.000000</td>\n",
              "    </tr>\n",
              "    <tr>\n",
              "      <th>mean</th>\n",
              "      <td>50.551818</td>\n",
              "      <td>53.362727</td>\n",
              "      <td>48.149091</td>\n",
              "      <td>25.616244</td>\n",
              "      <td>71.481779</td>\n",
              "      <td>6.469480</td>\n",
              "      <td>103.463655</td>\n",
              "    </tr>\n",
              "    <tr>\n",
              "      <th>std</th>\n",
              "      <td>36.917334</td>\n",
              "      <td>32.985883</td>\n",
              "      <td>50.647931</td>\n",
              "      <td>5.063749</td>\n",
              "      <td>22.263812</td>\n",
              "      <td>0.773938</td>\n",
              "      <td>54.958389</td>\n",
              "    </tr>\n",
              "    <tr>\n",
              "      <th>min</th>\n",
              "      <td>0.000000</td>\n",
              "      <td>5.000000</td>\n",
              "      <td>5.000000</td>\n",
              "      <td>8.825675</td>\n",
              "      <td>14.258040</td>\n",
              "      <td>3.504752</td>\n",
              "      <td>20.211267</td>\n",
              "    </tr>\n",
              "    <tr>\n",
              "      <th>25%</th>\n",
              "      <td>21.000000</td>\n",
              "      <td>28.000000</td>\n",
              "      <td>20.000000</td>\n",
              "      <td>22.769375</td>\n",
              "      <td>60.261953</td>\n",
              "      <td>5.971693</td>\n",
              "      <td>64.551686</td>\n",
              "    </tr>\n",
              "    <tr>\n",
              "      <th>50%</th>\n",
              "      <td>37.000000</td>\n",
              "      <td>51.000000</td>\n",
              "      <td>32.000000</td>\n",
              "      <td>25.598693</td>\n",
              "      <td>80.473146</td>\n",
              "      <td>6.425045</td>\n",
              "      <td>94.867624</td>\n",
              "    </tr>\n",
              "    <tr>\n",
              "      <th>75%</th>\n",
              "      <td>84.250000</td>\n",
              "      <td>68.000000</td>\n",
              "      <td>49.000000</td>\n",
              "      <td>28.561654</td>\n",
              "      <td>89.948771</td>\n",
              "      <td>6.923643</td>\n",
              "      <td>124.267508</td>\n",
              "    </tr>\n",
              "    <tr>\n",
              "      <th>max</th>\n",
              "      <td>140.000000</td>\n",
              "      <td>145.000000</td>\n",
              "      <td>205.000000</td>\n",
              "      <td>43.675493</td>\n",
              "      <td>99.981876</td>\n",
              "      <td>9.935091</td>\n",
              "      <td>298.560117</td>\n",
              "    </tr>\n",
              "  </tbody>\n",
              "</table>\n",
              "</div>"
            ],
            "text/plain": [
              "                 N            P            K  temperature     humidity  \\\n",
              "count  2200.000000  2200.000000  2200.000000  2200.000000  2200.000000   \n",
              "mean     50.551818    53.362727    48.149091    25.616244    71.481779   \n",
              "std      36.917334    32.985883    50.647931     5.063749    22.263812   \n",
              "min       0.000000     5.000000     5.000000     8.825675    14.258040   \n",
              "25%      21.000000    28.000000    20.000000    22.769375    60.261953   \n",
              "50%      37.000000    51.000000    32.000000    25.598693    80.473146   \n",
              "75%      84.250000    68.000000    49.000000    28.561654    89.948771   \n",
              "max     140.000000   145.000000   205.000000    43.675493    99.981876   \n",
              "\n",
              "                ph     rainfall  \n",
              "count  2200.000000  2200.000000  \n",
              "mean      6.469480   103.463655  \n",
              "std       0.773938    54.958389  \n",
              "min       3.504752    20.211267  \n",
              "25%       5.971693    64.551686  \n",
              "50%       6.425045    94.867624  \n",
              "75%       6.923643   124.267508  \n",
              "max       9.935091   298.560117  "
            ]
          },
          "execution_count": 9,
          "metadata": {},
          "output_type": "execute_result"
        }
      ],
      "source": [
        "crop.describe()"
      ]
    },
    {
      "cell_type": "code",
      "execution_count": null,
      "id": "61577d75",
      "metadata": {
        "id": "61577d75",
        "outputId": "d382c35a-f0da-4b73-9f15-3b8a296b8e98"
      },
      "outputs": [
        {
          "name": "stdout",
          "output_type": "stream",
          "text": [
            "                    N         P         K  temperature  humidity        ph  \\\n",
            "N            1.000000 -0.231460 -0.140512     0.026504  0.190688  0.096683   \n",
            "P           -0.231460  1.000000  0.736232    -0.127541 -0.118734 -0.138019   \n",
            "K           -0.140512  0.736232  1.000000    -0.160387  0.190859 -0.169503   \n",
            "temperature  0.026504 -0.127541 -0.160387     1.000000  0.205320 -0.017795   \n",
            "humidity     0.190688 -0.118734  0.190859     0.205320  1.000000 -0.008483   \n",
            "ph           0.096683 -0.138019 -0.169503    -0.017795 -0.008483  1.000000   \n",
            "rainfall     0.059020 -0.063839 -0.053461    -0.030084  0.094423 -0.109069   \n",
            "\n",
            "             rainfall  \n",
            "N            0.059020  \n",
            "P           -0.063839  \n",
            "K           -0.053461  \n",
            "temperature -0.030084  \n",
            "humidity     0.094423  \n",
            "ph          -0.109069  \n",
            "rainfall     1.000000  \n"
          ]
        }
      ],
      "source": [
        "# Drop the non-numeric column 'label'\n",
        "correlation_matrix = crop.drop('label', axis=1).corr()\n",
        "\n",
        "# Display correlation matrix\n",
        "print(correlation_matrix)"
      ]
    },
    {
      "cell_type": "code",
      "execution_count": null,
      "id": "eea6e529",
      "metadata": {
        "id": "eea6e529",
        "outputId": "09713168-f7b0-4bd0-eee1-34214297775a"
      },
      "outputs": [
        {
          "data": {
            "image/png": "[encoded data removed]",
            "text/plain": [
              "<Figure size 1000x600 with 2 Axes>"
            ]
          },
          "metadata": {},
          "output_type": "display_data"
        }
      ],
      "source": [
        "# Optional: Heatmap\n",
        "import seaborn as sns\n",
        "import matplotlib.pyplot as plt\n",
        "\n",
        "plt.figure(figsize=(10, 6))\n",
        "sns.heatmap(correlation_matrix, annot=True, cmap='coolwarm', linewidths=0.5)\n",
        "plt.title('Feature Correlation Matrix (Excluding Crop Labels)')\n",
        "plt.show()"
      ]
    },
    {
      "cell_type": "code",
      "execution_count": null,
      "id": "ceb983f1",
      "metadata": {
        "id": "ceb983f1",
        "outputId": "34abace8-ec2d-4dcd-94ed-81666eca79d7"
      },
      "outputs": [
        {
          "data": {
            "text/plain": [
              "label\n",
              "rice           100\n",
              "maize          100\n",
              "jute           100\n",
              "cotton         100\n",
              "coconut        100\n",
              "papaya         100\n",
              "orange         100\n",
              "apple          100\n",
              "muskmelon      100\n",
              "watermelon     100\n",
              "grapes         100\n",
              "mango          100\n",
              "banana         100\n",
              "pomegranate    100\n",
              "lentil         100\n",
              "blackgram      100\n",
              "mungbean       100\n",
              "mothbeans      100\n",
              "pigeonpeas     100\n",
              "kidneybeans    100\n",
              "chickpea       100\n",
              "coffee         100\n",
              "Name: count, dtype: int64"
            ]
          },
          "execution_count": 12,
          "metadata": {},
          "output_type": "execute_result"
        }
      ],
      "source": [
        "crop.label.value_counts()"
      ]
    },
    {
      "cell_type": "code",
      "execution_count": null,
      "id": "e4ed6d3a",
      "metadata": {
        "id": "e4ed6d3a",
        "outputId": "24acc253-a089-4568-93d2-99201a74d222"
      },
      "outputs": [
        {
          "data": {
            "text/plain": [
              "22"
            ]
          },
          "execution_count": 13,
          "metadata": {},
          "output_type": "execute_result"
        }
      ],
      "source": [
        "crop['label'].unique().size"
      ]
    },
    {
      "cell_type": "code",
      "execution_count": null,
      "id": "52a04cbb",
      "metadata": {
        "id": "52a04cbb",
        "outputId": "d0b98764-2f7e-483d-d54e-277c2098c487"
      },
      "outputs": [
        {
          "data": {
            "image/png": "[encoded data removed]",
            "text/plain": [
              "<Figure size 640x480 with 1 Axes>"
            ]
          },
          "metadata": {},
          "output_type": "display_data"
        }
      ],
      "source": [
        "import seaborn as sns\n",
        "import matplotlib.pyplot as plt\n",
        "\n",
        "sns.histplot(data=crop, x='P', kde=True)  # Add kde=True if you want the density curve\n",
        "plt.title('Distribution of Phosphorus (P)')\n",
        "plt.show()"
      ]
    },
    {
      "cell_type": "code",
      "execution_count": null,
      "id": "e6d6a889",
      "metadata": {
        "id": "e6d6a889",
        "outputId": "e12290c2-2a94-4859-94c9-225b89eaa50f"
      },
      "outputs": [
        {
          "data": {
            "image/png": "[encoded data removed]",
            "text/plain": [
              "<Figure size 640x480 with 1 Axes>"
            ]
          },
          "metadata": {},
          "output_type": "display_data"
        }
      ],
      "source": [
        "import seaborn as sns\n",
        "import matplotlib.pyplot as plt\n",
        "\n",
        "sns.histplot(data=crop, x='N', kde=True)\n",
        "plt.title('Distribution of Nitrogen (N)')\n",
        "plt.xlabel('Nitrogen')\n",
        "plt.ylabel('Frequency')\n",
        "plt.show()"
      ]
    },
    {
      "cell_type": "code",
      "execution_count": null,
      "id": "9e9b1a18",
      "metadata": {
        "id": "9e9b1a18",
        "outputId": "73709c7a-5c53-4c42-9ce1-f4afb01ebc3f"
      },
      "outputs": [
        {
          "data": {
            "text/plain": [
              "array(['rice', 'maize', 'chickpea', 'kidneybeans', 'pigeonpeas',\n",
              "       'mothbeans', 'mungbean', 'blackgram', 'lentil', 'pomegranate',\n",
              "       'banana', 'mango', 'grapes', 'watermelon', 'muskmelon', 'apple',\n",
              "       'orange', 'papaya', 'coconut', 'cotton', 'jute', 'coffee'],\n",
              "      dtype=object)"
            ]
          },
          "execution_count": 16,
          "metadata": {},
          "output_type": "execute_result"
        }
      ],
      "source": [
        "crop.label.unique()"
      ]
    },
    {
      "cell_type": "code",
      "execution_count": null,
      "id": "f3163e1d",
      "metadata": {
        "id": "f3163e1d"
      },
      "outputs": [],
      "source": [
        "crop_dict={\n",
        "    'rice': 1,\n",
        "    'maize': 2,\n",
        "    'jute': 3,\n",
        "    'cotton': 4,\n",
        "    'coconut': 5,\n",
        "    'papaya': 6,\n",
        "    'orange': 7,\n",
        "    'apple': 8,\n",
        "    'muskmelon': 9,\n",
        "    'watermelon': 10,\n",
        "    'grapes': 11,\n",
        "    'mango': 12,\n",
        "    'banana': 13,\n",
        "    'pomegranate': 14,\n",
        "    'lentil': 15,\n",
        "    'blackgram': 16,\n",
        "    'mungbean': 17,\n",
        "    'mothbeans': 18,\n",
        "    'pigeonpeas': 19,\n",
        "    'kidneybeans': 20,\n",
        "    'chickpea': 21,\n",
        "    'coffee': 22\n",
        "}\n",
        "\n",
        "crop['label'] = crop['label'].map(crop_dict)"
      ]
    },
    {
      "cell_type": "code",
      "execution_count": null,
      "id": "6e4abad3",
      "metadata": {
        "id": "6e4abad3",
        "outputId": "8423e7e8-1163-4923-eb32-1ddf5013e1b3"
      },
      "outputs": [
        {
          "data": {
            "text/html": [
              "<div>\n",
              "<style scoped>\n",
              "    .dataframe tbody tr th:only-of-type {\n",
              "        vertical-align: middle;\n",
              "    }\n",
              "\n",
              "    .dataframe tbody tr th {\n",
              "        vertical-align: top;\n",
              "    }\n",
              "\n",
              "    .dataframe thead th {\n",
              "        text-align: right;\n",
              "    }\n",
              "</style>\n",
              "<table border=\"1\" class=\"dataframe\">\n",
              "  <thead>\n",
              "    <tr style=\"text-align: right;\">\n",
              "      <th></th>\n",
              "      <th>N</th>\n",
              "      <th>P</th>\n",
              "      <th>K</th>\n",
              "      <th>temperature</th>\n",
              "      <th>humidity</th>\n",
              "      <th>ph</th>\n",
              "      <th>rainfall</th>\n",
              "      <th>label</th>\n",
              "    </tr>\n",
              "  </thead>\n",
              "  <tbody>\n",
              "    <tr>\n",
              "      <th>0</th>\n",
              "      <td>90</td>\n",
              "      <td>42</td>\n",
              "      <td>43</td>\n",
              "      <td>20.879744</td>\n",
              "      <td>82.002744</td>\n",
              "      <td>6.502985</td>\n",
              "      <td>202.935536</td>\n",
              "      <td>1</td>\n",
              "    </tr>\n",
              "    <tr>\n",
              "      <th>1</th>\n",
              "      <td>85</td>\n",
              "      <td>58</td>\n",
              "      <td>41</td>\n",
              "      <td>21.770462</td>\n",
              "      <td>80.319644</td>\n",
              "      <td>7.038096</td>\n",
              "      <td>226.655537</td>\n",
              "      <td>1</td>\n",
              "    </tr>\n",
              "    <tr>\n",
              "      <th>2</th>\n",
              "      <td>60</td>\n",
              "      <td>55</td>\n",
              "      <td>44</td>\n",
              "      <td>23.004459</td>\n",
              "      <td>82.320763</td>\n",
              "      <td>7.840207</td>\n",
              "      <td>263.964248</td>\n",
              "      <td>1</td>\n",
              "    </tr>\n",
              "    <tr>\n",
              "      <th>3</th>\n",
              "      <td>74</td>\n",
              "      <td>35</td>\n",
              "      <td>40</td>\n",
              "      <td>26.491096</td>\n",
              "      <td>80.158363</td>\n",
              "      <td>6.980401</td>\n",
              "      <td>242.864034</td>\n",
              "      <td>1</td>\n",
              "    </tr>\n",
              "    <tr>\n",
              "      <th>4</th>\n",
              "      <td>78</td>\n",
              "      <td>42</td>\n",
              "      <td>42</td>\n",
              "      <td>20.130175</td>\n",
              "      <td>81.604873</td>\n",
              "      <td>7.628473</td>\n",
              "      <td>262.717340</td>\n",
              "      <td>1</td>\n",
              "    </tr>\n",
              "  </tbody>\n",
              "</table>\n",
              "</div>"
            ],
            "text/plain": [
              "    N   P   K  temperature   humidity        ph    rainfall  label\n",
              "0  90  42  43    20.879744  82.002744  6.502985  202.935536      1\n",
              "1  85  58  41    21.770462  80.319644  7.038096  226.655537      1\n",
              "2  60  55  44    23.004459  82.320763  7.840207  263.964248      1\n",
              "3  74  35  40    26.491096  80.158363  6.980401  242.864034      1\n",
              "4  78  42  42    20.130175  81.604873  7.628473  262.717340      1"
            ]
          },
          "execution_count": 18,
          "metadata": {},
          "output_type": "execute_result"
        }
      ],
      "source": [
        "crop.head()"
      ]
    },
    {
      "cell_type": "code",
      "execution_count": null,
      "id": "461cce81",
      "metadata": {
        "id": "461cce81",
        "outputId": "5679edbe-0e30-4c39-cb69-6f65efd89e33"
      },
      "outputs": [
        {
          "data": {
            "text/plain": [
              "array([ 1,  2, 21, 20, 19, 18, 17, 16, 15, 14, 13, 12, 11, 10,  9,  8,  7,\n",
              "        6,  5,  4,  3, 22], dtype=int64)"
            ]
          },
          "execution_count": 19,
          "metadata": {},
          "output_type": "execute_result"
        }
      ],
      "source": [
        "crop.label.unique()"
      ]
    },
    {
      "cell_type": "code",
      "execution_count": null,
      "id": "d57c5be2",
      "metadata": {
        "id": "d57c5be2",
        "outputId": "7fd5e16b-be6a-4452-d1bd-69d02967b96d"
      },
      "outputs": [
        {
          "data": {
            "text/plain": [
              "label\n",
              "1     100\n",
              "2     100\n",
              "3     100\n",
              "4     100\n",
              "5     100\n",
              "6     100\n",
              "7     100\n",
              "8     100\n",
              "9     100\n",
              "10    100\n",
              "11    100\n",
              "12    100\n",
              "13    100\n",
              "14    100\n",
              "15    100\n",
              "16    100\n",
              "17    100\n",
              "18    100\n",
              "19    100\n",
              "20    100\n",
              "21    100\n",
              "22    100\n",
              "Name: count, dtype: int64"
            ]
          },
          "execution_count": 20,
          "metadata": {},
          "output_type": "execute_result"
        }
      ],
      "source": [
        "crop.label.value_counts()"
      ]
    },
    {
      "cell_type": "code",
      "execution_count": null,
      "id": "f6823558",
      "metadata": {
        "id": "f6823558"
      },
      "outputs": [],
      "source": [
        "X=crop.drop('label', axis = 1)\n",
        "y=crop['label']"
      ]
    },
    {
      "cell_type": "code",
      "execution_count": null,
      "id": "ae8d5f97",
      "metadata": {
        "id": "ae8d5f97",
        "outputId": "297ae3e7-7ecd-4689-ebe6-346bdd91660c"
      },
      "outputs": [
        {
          "data": {
            "text/html": [
              "<div>\n",
              "<style scoped>\n",
              "    .dataframe tbody tr th:only-of-type {\n",
              "        vertical-align: middle;\n",
              "    }\n",
              "\n",
              "    .dataframe tbody tr th {\n",
              "        vertical-align: top;\n",
              "    }\n",
              "\n",
              "    .dataframe thead th {\n",
              "        text-align: right;\n",
              "    }\n",
              "</style>\n",
              "<table border=\"1\" class=\"dataframe\">\n",
              "  <thead>\n",
              "    <tr style=\"text-align: right;\">\n",
              "      <th></th>\n",
              "      <th>N</th>\n",
              "      <th>P</th>\n",
              "      <th>K</th>\n",
              "      <th>temperature</th>\n",
              "      <th>humidity</th>\n",
              "      <th>ph</th>\n",
              "      <th>rainfall</th>\n",
              "    </tr>\n",
              "  </thead>\n",
              "  <tbody>\n",
              "    <tr>\n",
              "      <th>0</th>\n",
              "      <td>90</td>\n",
              "      <td>42</td>\n",
              "      <td>43</td>\n",
              "      <td>20.879744</td>\n",
              "      <td>82.002744</td>\n",
              "      <td>6.502985</td>\n",
              "      <td>202.935536</td>\n",
              "    </tr>\n",
              "    <tr>\n",
              "      <th>1</th>\n",
              "      <td>85</td>\n",
              "      <td>58</td>\n",
              "      <td>41</td>\n",
              "      <td>21.770462</td>\n",
              "      <td>80.319644</td>\n",
              "      <td>7.038096</td>\n",
              "      <td>226.655537</td>\n",
              "    </tr>\n",
              "    <tr>\n",
              "      <th>2</th>\n",
              "      <td>60</td>\n",
              "      <td>55</td>\n",
              "      <td>44</td>\n",
              "      <td>23.004459</td>\n",
              "      <td>82.320763</td>\n",
              "      <td>7.840207</td>\n",
              "      <td>263.964248</td>\n",
              "    </tr>\n",
              "    <tr>\n",
              "      <th>3</th>\n",
              "      <td>74</td>\n",
              "      <td>35</td>\n",
              "      <td>40</td>\n",
              "      <td>26.491096</td>\n",
              "      <td>80.158363</td>\n",
              "      <td>6.980401</td>\n",
              "      <td>242.864034</td>\n",
              "    </tr>\n",
              "    <tr>\n",
              "      <th>4</th>\n",
              "      <td>78</td>\n",
              "      <td>42</td>\n",
              "      <td>42</td>\n",
              "      <td>20.130175</td>\n",
              "      <td>81.604873</td>\n",
              "      <td>7.628473</td>\n",
              "      <td>262.717340</td>\n",
              "    </tr>\n",
              "  </tbody>\n",
              "</table>\n",
              "</div>"
            ],
            "text/plain": [
              "    N   P   K  temperature   humidity        ph    rainfall\n",
              "0  90  42  43    20.879744  82.002744  6.502985  202.935536\n",
              "1  85  58  41    21.770462  80.319644  7.038096  226.655537\n",
              "2  60  55  44    23.004459  82.320763  7.840207  263.964248\n",
              "3  74  35  40    26.491096  80.158363  6.980401  242.864034\n",
              "4  78  42  42    20.130175  81.604873  7.628473  262.717340"
            ]
          },
          "execution_count": 23,
          "metadata": {},
          "output_type": "execute_result"
        }
      ],
      "source": [
        "X.head()"
      ]
    },
    {
      "cell_type": "code",
      "execution_count": null,
      "id": "19428d3a",
      "metadata": {
        "id": "19428d3a",
        "outputId": "49de12f3-c0e1-48f5-d157-3ce27d3a8617"
      },
      "outputs": [
        {
          "data": {
            "text/plain": [
              "0    1\n",
              "1    1\n",
              "2    1\n",
              "3    1\n",
              "4    1\n",
              "Name: label, dtype: int64"
            ]
          },
          "execution_count": 24,
          "metadata": {},
          "output_type": "execute_result"
        }
      ],
      "source": [
        "y.head()"
      ]
    },
    {
      "cell_type": "code",
      "execution_count": null,
      "id": "52674476",
      "metadata": {
        "id": "52674476"
      },
      "outputs": [],
      "source": [
        "from sklearn.model_selection import train_test_split\n",
        "X_train, X_test, y_train, y_test = train_test_split(X, y, test_size = 0.2, random_state=42)"
      ]
    },
    {
      "cell_type": "code",
      "execution_count": null,
      "id": "c5967632",
      "metadata": {
        "id": "c5967632",
        "outputId": "aee8fd86-1ca7-4bf2-9b5b-06fd85a5b7a8"
      },
      "outputs": [
        {
          "data": {
            "text/plain": [
              "(1760, 7)"
            ]
          },
          "execution_count": 28,
          "metadata": {},
          "output_type": "execute_result"
        }
      ],
      "source": [
        "X_train.shape"
      ]
    },
    {
      "cell_type": "code",
      "execution_count": null,
      "id": "aeacdee1",
      "metadata": {
        "id": "aeacdee1"
      },
      "outputs": [],
      "source": [
        "from sklearn.preprocessing import MinMaxScaler\n",
        "mx = MinMaxScaler()\n",
        "X_train = mx.fit_transform(X_train)\n",
        "X_test = mx.transform(X_test)"
      ]
    },
    {
      "cell_type": "code",
      "execution_count": null,
      "id": "d7dae3bc",
      "metadata": {
        "id": "d7dae3bc",
        "outputId": "87c14650-1c90-4ebb-edbb-34bc10daf013"
      },
      "outputs": [
        {
          "data": {
            "text/plain": [
              "array([[0.12142857, 0.07857143, 0.045     , ..., 0.9089898 , 0.48532225,\n",
              "        0.29685161],\n",
              "       [0.26428571, 0.52857143, 0.07      , ..., 0.64257946, 0.56594073,\n",
              "        0.17630752],\n",
              "       [0.05      , 0.48571429, 0.1       , ..., 0.57005802, 0.58835229,\n",
              "        0.08931844],\n",
              "       ...,\n",
              "       [0.07857143, 0.22142857, 0.13      , ..., 0.43760347, 0.46198144,\n",
              "        0.28719815],\n",
              "       [0.07857143, 0.85      , 0.995     , ..., 0.76763665, 0.44420505,\n",
              "        0.18346657],\n",
              "       [0.22857143, 0.52142857, 0.085     , ..., 0.56099735, 0.54465022,\n",
              "        0.11879596]])"
            ]
          },
          "execution_count": 30,
          "metadata": {},
          "output_type": "execute_result"
        }
      ],
      "source": [
        "X_train"
      ]
    },
    {
      "cell_type": "code",
      "execution_count": null,
      "id": "5fcb3397",
      "metadata": {
        "id": "5fcb3397"
      },
      "outputs": [],
      "source": [
        "from sklearn.preprocessing import StandardScaler\n",
        "sc = StandardScaler()\n",
        "sc.fit(X_train)\n",
        "X_train = sc.transform(X_train)\n",
        "X_test=sc.transform(X_test)"
      ]
    },
    {
      "cell_type": "code",
      "execution_count": null,
      "id": "00d008da",
      "metadata": {
        "id": "00d008da"
      },
      "outputs": [],
      "source": [
        "from sklearn.linear_model import LogisticRegression\n",
        "from sklearn.naive_bayes import GaussianNB\n",
        "from sklearn.svm import SVC\n",
        "from sklearn.neighbors import KNeighborsClassifier\n",
        "from sklearn.tree import DecisionTreeClassifier, ExtraTreeClassifier\n",
        "from sklearn.ensemble import RandomForestClassifier, BaggingClassifier, GradientBoostingClassifier, AdaBoostClassifier\n",
        "from sklearn.metrics import accuracy_score"
      ]
    },
    {
      "cell_type": "code",
      "execution_count": null,
      "id": "acd042c0",
      "metadata": {
        "id": "acd042c0"
      },
      "outputs": [],
      "source": [
        "models = {\n",
        "    'LogisticRegression': LogisticRegression(),\n",
        "    'GaussianNB':GaussianNB(),\n",
        "    'SVC':SVC(),\n",
        "    'KNeighborsClassifier':KNeighborsClassifier(),\n",
        "    'DecisionTreeClassifier':DecisionTreeClassifier(),\n",
        "    'ExtraTreeClassifier':ExtraTreeClassifier(),\n",
        "    'RandomForestClassifier':RandomForestClassifier(),\n",
        "    'BaggingClassifier':BaggingClassifier(),\n",
        "    'GradientBoostingClassifier':GradientBoostingClassifier(),\n",
        "    'AdaBoostClassifier':AdaBoostClassifier()\n",
        "}"
      ]
    },
    {
      "cell_type": "code",
      "execution_count": null,
      "id": "bb52d05e",
      "metadata": {
        "id": "bb52d05e",
        "outputId": "a489dedb-9a4b-49d6-d769-1c5bb8ae715a"
      },
      "outputs": [
        {
          "name": "stdout",
          "output_type": "stream",
          "text": [
            "LogisticRegression model with accuracy: 0.9636363636363636\n",
            "GaussianNB model with accuracy: 0.9954545454545455\n",
            "SVC model with accuracy: 0.9681818181818181\n",
            "KNeighborsClassifier model with accuracy: 0.9590909090909091\n",
            "DecisionTreeClassifier model with accuracy: 0.9840909090909091\n",
            "ExtraTreeClassifier model with accuracy: 0.8681818181818182\n",
            "RandomForestClassifier model with accuracy: 0.9931818181818182\n",
            "BaggingClassifier model with accuracy: 0.9886363636363636\n",
            "GradientBoostingClassifier model with accuracy: 0.9818181818181818\n"
          ]
        },
        {
          "name": "stderr",
          "output_type": "stream",
          "text": [
            "C:\\Users\\123\\anaconda3\\Lib\\site-packages\\sklearn\\ensemble\\_weight_boosting.py:519: FutureWarning: The SAMME.R algorithm (the default) is deprecated and will be removed in 1.6. Use the SAMME algorithm to circumvent this warning.\n",
            "  warnings.warn(\n"
          ]
        },
        {
          "name": "stdout",
          "output_type": "stream",
          "text": [
            "AdaBoostClassifier model with accuracy: 0.09545454545454546\n"
          ]
        }
      ],
      "source": [
        "for name, model in models.items():\n",
        "    model.fit(X_train, y_train)\n",
        "    y_pred = model.predict(X_test)\n",
        "    score = accuracy_score(y_test, y_pred)\n",
        "    print(f\"{name} model with accuracy: {score}\")"
      ]
    },
    {
      "cell_type": "code",
      "execution_count": null,
      "id": "e016a667",
      "metadata": {
        "id": "e016a667",
        "outputId": "e3c95fe8-16b9-4054-df3e-ee0036b97831"
      },
      "outputs": [
        {
          "data": {
            "text/plain": [
              "0.9954545454545455"
            ]
          },
          "execution_count": 42,
          "metadata": {},
          "output_type": "execute_result"
        }
      ],
      "source": [
        "randclf = GaussianNB()\n",
        "randclf.fit(X_train, y_train)\n",
        "y_pred = randclf.predict(X_test)\n",
        "accuracy_score(y_test, y_pred)"
      ]
    }
  ],
  "metadata": {
    "kernelspec": {
      "display_name": "Python 3 (ipykernel)",
      "language": "python",
      "name": "python3"
    },
    "language_info": {
      "codemirror_mode": {
        "name": "ipython",
        "version": 3
      },
      "file_extension": ".py",
      "mimetype": "text/x-python",
      "name": "python",
      "nbconvert_exporter": "python",
      "pygments_lexer": "ipython3",
      "version": "3.12.4"
    },
    "colab": {
      "provenance": [],
      "include_colab_link": true
    }
  },
  "nbformat": 4,
  "nbformat_minor": 5
}