{
  "nbformat": 4,
  "nbformat_minor": 0,
  "metadata": {
    "colab": {
      "provenance": [],
      "authorship_tag": "ABX9TyNNhRLFXBHUgMyQOd5GF+Sa",
      "include_colab_link": true
    },
    "kernelspec": {
      "name": "python3",
      "display_name": "Python 3"
    },
    "language_info": {
      "name": "python"
    }
  },
  "cells": [
    {
      "cell_type": "markdown",
      "metadata": {
        "id": "view-in-github",
        "colab_type": "text"
      },
      "source": [
        "<a href=\"https://colab.research.google.com/github/yandri918/Belajar-python/blob/main/Untitled4.ipynb\" target=\"_parent\"><img src=\"https://colab.research.google.com/assets/colab-badge.svg\" alt=\"Open In Colab\"/></a>"
      ]
    },
    {
      "cell_type": "code",
      "execution_count": 5,
      "metadata": {
        "colab": {
          "base_uri": "https://localhost:8080/"
        },
        "id": "3vfnA3FKRcda",
        "outputId": "f3b2ee00-0f06-4436-f7d3-2c093f24a8fe"
      },
      "outputs": [
        {
          "output_type": "stream",
          "name": "stdout",
          "text": [
            "Machine Learning Developer di Indonesia :\n",
            "                Name  Age\n",
            "0  Isyana Saraswati   30\n",
            "1  Nicholas Saputra   36\n",
            "2    Raisa Andriana   32\n",
            "\n",
            " Split kolom 'Name', lalu tambahkan kedua kolom : \n",
            "                Name  Age     First       Last\n",
            "0  Isyana Saraswati   30    Isyana  Saraswati\n",
            "1  Nicholas Saputra   36  Nicholas    Saputra\n",
            "2    Raisa Andriana   32     Raisa   Andriana\n"
          ]
        }
      ],
      "source": [
        "import pandas as pd\n",
        "Developer = pd.DataFrame({'Name': ['Isyana Saraswati', 'Nicholas Saputra', 'Raisa Andriana'],\n",
        "        'Age':[30, 36, 32]})\n",
        "print(\"Machine Learning Developer di Indonesia :\\n\", Developer)\n",
        "Developer[['First','Last']] = Developer.Name.str.split(expand=True)\n",
        "print(\"\\n Split kolom 'Name', lalu tambahkan kedua kolom : \\n\", Developer)"
      ]
    }
  ]
}