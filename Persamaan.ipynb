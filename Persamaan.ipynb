{
  "nbformat": 4,
  "nbformat_minor": 0,
  "metadata": {
    "colab": {
      "provenance": [],
      "authorship_tag": "ABX9TyMn0PCaM/QUTdNZKE8GrO+F",
      "include_colab_link": true
    },
    "kernelspec": {
      "name": "python3",
      "display_name": "Python 3"
    },
    "language_info": {
      "name": "python"
    }
  },
  "cells": [
    {
      "cell_type": "markdown",
      "metadata": {
        "id": "view-in-github",
        "colab_type": "text"
      },
      "source": [
        "<a href=\"https://colab.research.google.com/github/yandri918/Belajar-python/blob/main/Persamaan.ipynb\" target=\"_parent\"><img src=\"https://colab.research.google.com/assets/colab-badge.svg\" alt=\"Open In Colab\"/></a>"
      ]
    },
    {
      "cell_type": "code",
      "execution_count": 1,
      "metadata": {
        "id": "gutXA7wm-uWD"
      },
      "outputs": [],
      "source": [
        "from sympy import symbols, Eq , solve"
      ]
    },
    {
      "cell_type": "code",
      "source": [
        "x , y = symbols('x y')"
      ],
      "metadata": {
        "id": "B1ttF841--kv"
      },
      "execution_count": 2,
      "outputs": []
    },
    {
      "cell_type": "code",
      "source": [
        "Eq1 =Eq(2*x + 2*y , 12)\n",
        "Eq2 =Eq(x + 2*y , 3)\n",
        "solution=solve((Eq1,Eq2),(x,y))"
      ],
      "metadata": {
        "id": "wKk8uxXx_QxB"
      },
      "execution_count": 8,
      "outputs": []
    },
    {
      "cell_type": "code",
      "source": [
        "print(solution)"
      ],
      "metadata": {
        "colab": {
          "base_uri": "https://localhost:8080/"
        },
        "id": "6sIghVuvAB0d",
        "outputId": "c1b15aac-357b-4208-ee16-d4ae9dd0a6aa"
      },
      "execution_count": 9,
      "outputs": [
        {
          "output_type": "stream",
          "name": "stdout",
          "text": [
            "{x: 9, y: -3}\n"
          ]
        }
      ]
    }
  ]
}